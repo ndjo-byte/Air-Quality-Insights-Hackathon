{
 "cells": [
  {
   "cell_type": "code",
   "execution_count": 82,
   "metadata": {},
   "outputs": [],
   "source": [
    "import pandas as pd\n",
    "import numpy as np"
   ]
  },
  {
   "cell_type": "code",
   "execution_count": 83,
   "metadata": {},
   "outputs": [],
   "source": [
    "raw_measurement_path = '/Users/nathanjones/Downloads/NUWE/Hackathons/Schneider_DataScience/hackathon-schneider-pollution/data/raw/measurement_data.csv'\n",
    "\n",
    "raw_measurement_df = pd.read_csv(raw_measurement_path)"
   ]
  },
  {
   "cell_type": "markdown",
   "metadata": {},
   "source": [
    "<mark>datetime</mark>"
   ]
  },
  {
   "cell_type": "code",
   "execution_count": 84,
   "metadata": {},
   "outputs": [],
   "source": [
    "\n",
    "raw_measurement_df[\"Measurement date\"] = pd.to_datetime(raw_measurement_df[\"Measurement date\"])\n"
   ]
  },
  {
   "cell_type": "markdown",
   "metadata": {},
   "source": [
    "<mark>season</mark>"
   ]
  },
  {
   "cell_type": "code",
   "execution_count": 85,
   "metadata": {},
   "outputs": [],
   "source": [
    "def id_season(date_col):\n",
    "    month = date_col.month\n",
    "\n",
    "    if month in [12,1,2]:\n",
    "        return 1\n",
    "    elif month in [3,4,5]:\n",
    "        return 2\n",
    "    elif month in [6,7,8]:\n",
    "        return 3\n",
    "    else:\n",
    "        return 4\n",
    "    \n",
    "raw_measurement_df['Season'] = raw_measurement_df[\"Measurement date\"].apply(id_season)"
   ]
  },
  {
   "cell_type": "markdown",
   "metadata": {},
   "source": [
    "<mark>hour</mark>"
   ]
  },
  {
   "cell_type": "code",
   "execution_count": 86,
   "metadata": {},
   "outputs": [],
   "source": [
    "raw_measurement_df['Hour'] = raw_measurement_df[\"Measurement date\"].dt.hour"
   ]
  },
  {
   "cell_type": "code",
   "execution_count": 87,
   "metadata": {},
   "outputs": [
    {
     "name": "stdout",
     "output_type": "stream",
     "text": [
      "<class 'pandas.core.frame.DataFrame'>\n",
      "RangeIndex: 621588 entries, 0 to 621587\n",
      "Data columns (total 12 columns):\n",
      " #   Column            Non-Null Count   Dtype         \n",
      "---  ------            --------------   -----         \n",
      " 0   Measurement date  621588 non-null  datetime64[ns]\n",
      " 1   Station code      621588 non-null  int64         \n",
      " 2   Latitude          621588 non-null  float64       \n",
      " 3   Longitude         621588 non-null  float64       \n",
      " 4   SO2               621588 non-null  float64       \n",
      " 5   NO2               621588 non-null  float64       \n",
      " 6   O3                621588 non-null  float64       \n",
      " 7   CO                621588 non-null  float64       \n",
      " 8   PM10              621588 non-null  float64       \n",
      " 9   PM2.5             621588 non-null  float64       \n",
      " 10  Season            621588 non-null  int64         \n",
      " 11  Hour              621588 non-null  int32         \n",
      "dtypes: datetime64[ns](1), float64(8), int32(1), int64(2)\n",
      "memory usage: 54.5 MB\n"
     ]
    }
   ],
   "source": [
    "raw_measurement_df.info()"
   ]
  },
  {
   "cell_type": "markdown",
   "metadata": {},
   "source": [
    "<mark>negatives to 0</mark>"
   ]
  },
  {
   "cell_type": "code",
   "execution_count": 88,
   "metadata": {},
   "outputs": [],
   "source": [
    "raw_measurement_df.set_index(\"Measurement date\", inplace=True)"
   ]
  },
  {
   "cell_type": "code",
   "execution_count": 89,
   "metadata": {},
   "outputs": [],
   "source": [
    "# Remove negative SO2\n",
    "raw_measurement_df = raw_measurement_df.drop(raw_measurement_df[raw_measurement_df[\"SO2\"] < 0].index)\n",
    "\n",
    "\n",
    "# Remove negative O3\n",
    "raw_measurement_df = raw_measurement_df.drop(raw_measurement_df[raw_measurement_df[\"O3\"] < 0].index)\n",
    "\n",
    "# Remove negative CO\n",
    "raw_measurement_df = raw_measurement_df.drop(raw_measurement_df[raw_measurement_df[\"CO\"] < 0].index)\n",
    "\n",
    "# Remove negative PM10\n",
    "raw_measurement_df = raw_measurement_df.drop(raw_measurement_df[raw_measurement_df[\"PM10\"] < 0].index)\n",
    "\n",
    "# Remove negative PM2.5\n",
    "raw_measurement_df = raw_measurement_df.drop(raw_measurement_df[raw_measurement_df[\"PM2.5\"] < 0].index)"
   ]
  },
  {
   "cell_type": "code",
   "execution_count": 90,
   "metadata": {},
   "outputs": [
    {
     "name": "stdout",
     "output_type": "stream",
     "text": [
      "<class 'pandas.core.frame.DataFrame'>\n",
      "DatetimeIndex: 544296 entries, 2021-01-01 00:00:00 to 2023-11-30 23:00:00\n",
      "Data columns (total 11 columns):\n",
      " #   Column        Non-Null Count   Dtype  \n",
      "---  ------        --------------   -----  \n",
      " 0   Station code  544296 non-null  int64  \n",
      " 1   Latitude      544296 non-null  float64\n",
      " 2   Longitude     544296 non-null  float64\n",
      " 3   SO2           544296 non-null  float64\n",
      " 4   NO2           544296 non-null  float64\n",
      " 5   O3            544296 non-null  float64\n",
      " 6   CO            544296 non-null  float64\n",
      " 7   PM10          544296 non-null  float64\n",
      " 8   PM2.5         544296 non-null  float64\n",
      " 9   Season        544296 non-null  int64  \n",
      " 10  Hour          544296 non-null  int32  \n",
      "dtypes: float64(8), int32(1), int64(2)\n",
      "memory usage: 47.8 MB\n"
     ]
    }
   ],
   "source": [
    "raw_measurement_df.info()"
   ]
  },
  {
   "cell_type": "markdown",
   "metadata": {},
   "source": [
    "<mark>drop cols</mark>"
   ]
  },
  {
   "cell_type": "code",
   "execution_count": 91,
   "metadata": {},
   "outputs": [],
   "source": [
    "raw_measurement_df = raw_measurement_df.drop(columns=[\"Latitude\", \"Longitude\"])"
   ]
  },
  {
   "cell_type": "code",
   "execution_count": 92,
   "metadata": {},
   "outputs": [],
   "source": [
    "raw_measurement_df.to_csv('processed/measurements.csv', index=True)\n"
   ]
  }
 ],
 "metadata": {
  "kernelspec": {
   "display_name": "venv",
   "language": "python",
   "name": "python3"
  },
  "language_info": {
   "codemirror_mode": {
    "name": "ipython",
    "version": 3
   },
   "file_extension": ".py",
   "mimetype": "text/x-python",
   "name": "python",
   "nbconvert_exporter": "python",
   "pygments_lexer": "ipython3",
   "version": "3.12.5"
  }
 },
 "nbformat": 4,
 "nbformat_minor": 2
}
