{
 "cells": [
  {
   "cell_type": "code",
   "execution_count": 2,
   "metadata": {},
   "outputs": [],
   "source": [
    "import pandas as pd\n",
    "import numpy as np"
   ]
  },
  {
   "cell_type": "code",
   "execution_count": 3,
   "metadata": {},
   "outputs": [],
   "source": [
    "raw_instrument_path = '/Users/nathanjones/Downloads/NUWE/Hackathons/Schneider_DataScience/hackathon-schneider-pollution/data/raw/instrument_data.csv'\n",
    "raw_measurement_path = '/Users/nathanjones/Downloads/NUWE/Hackathons/Schneider_DataScience/hackathon-schneider-pollution/data/raw/measurement_data.csv'\n",
    "raw_pollutant_path = '/Users/nathanjones/Downloads/NUWE/Hackathons/Schneider_DataScience/hackathon-schneider-pollution/data/raw/pollutant_data.csv'\n",
    "\n",
    "raw_instrument_df = pd.read_csv(raw_instrument_path)\n",
    "raw_measurement_df = pd.read_csv(raw_measurement_path)\n",
    "raw_pollutant_df = pd.read_csv(raw_pollutant_path)\n"
   ]
  },
  {
   "cell_type": "markdown",
   "metadata": {},
   "source": [
    "## instrument_data"
   ]
  },
  {
   "cell_type": "code",
   "execution_count": 4,
   "metadata": {},
   "outputs": [
    {
     "name": "stdout",
     "output_type": "stream",
     "text": [
      "<class 'pandas.core.frame.DataFrame'>\n",
      "RangeIndex: 3703662 entries, 0 to 3703661\n",
      "Data columns (total 5 columns):\n",
      " #   Column             Dtype  \n",
      "---  ------             -----  \n",
      " 0   Measurement date   object \n",
      " 1   Station code       int64  \n",
      " 2   Item code          int64  \n",
      " 3   Average value      float64\n",
      " 4   Instrument status  int64  \n",
      "dtypes: float64(1), int64(3), object(1)\n",
      "memory usage: 141.3+ MB\n"
     ]
    }
   ],
   "source": [
    "raw_instrument_df.info()"
   ]
  },
  {
   "cell_type": "code",
   "execution_count": 5,
   "metadata": {},
   "outputs": [
    {
     "data": {
      "application/vnd.microsoft.datawrangler.viewer.v0+json": {
       "columns": [
        {
         "name": "index",
         "rawType": "object",
         "type": "string"
        },
        {
         "name": "Station code",
         "rawType": "float64",
         "type": "float"
        },
        {
         "name": "Item code",
         "rawType": "float64",
         "type": "float"
        },
        {
         "name": "Average value",
         "rawType": "float64",
         "type": "float"
        },
        {
         "name": "Instrument status",
         "rawType": "float64",
         "type": "float"
        }
       ],
       "conversionMethod": "pd.DataFrame",
       "ref": "4f016883-c09b-4def-90c0-ab45c8a779b5",
       "rows": [
        [
         "count",
         "3703662.0",
         "3703662.0",
         "3703662.0",
         "3703662.0"
        ],
        [
         "mean",
         "215.95813224856911",
         "4.333333333333333",
         "11.70490662808863",
         "0.13778768148929357"
        ],
        [
         "std",
         "7.176527824480854",
         "2.7487374548288757",
         "38.425039580585654",
         "0.9948271757592426"
        ],
        [
         "min",
         "204.0",
         "0.0",
         "-1.0",
         "0.0"
        ],
        [
         "25%",
         "210.0",
         "2.0",
         "0.012",
         "0.0"
        ],
        [
         "50%",
         "216.0",
         "4.5",
         "0.072",
         "0.0"
        ],
        [
         "75%",
         "222.0",
         "7.0",
         "15.0",
         "0.0"
        ],
        [
         "max",
         "228.0",
         "8.0",
         "6256.0",
         "9.0"
        ]
       ],
       "shape": {
        "columns": 4,
        "rows": 8
       }
      },
      "text/html": [
       "<div>\n",
       "<style scoped>\n",
       "    .dataframe tbody tr th:only-of-type {\n",
       "        vertical-align: middle;\n",
       "    }\n",
       "\n",
       "    .dataframe tbody tr th {\n",
       "        vertical-align: top;\n",
       "    }\n",
       "\n",
       "    .dataframe thead th {\n",
       "        text-align: right;\n",
       "    }\n",
       "</style>\n",
       "<table border=\"1\" class=\"dataframe\">\n",
       "  <thead>\n",
       "    <tr style=\"text-align: right;\">\n",
       "      <th></th>\n",
       "      <th>Station code</th>\n",
       "      <th>Item code</th>\n",
       "      <th>Average value</th>\n",
       "      <th>Instrument status</th>\n",
       "    </tr>\n",
       "  </thead>\n",
       "  <tbody>\n",
       "    <tr>\n",
       "      <th>count</th>\n",
       "      <td>3.703662e+06</td>\n",
       "      <td>3.703662e+06</td>\n",
       "      <td>3.703662e+06</td>\n",
       "      <td>3.703662e+06</td>\n",
       "    </tr>\n",
       "    <tr>\n",
       "      <th>mean</th>\n",
       "      <td>2.159581e+02</td>\n",
       "      <td>4.333333e+00</td>\n",
       "      <td>1.170491e+01</td>\n",
       "      <td>1.377877e-01</td>\n",
       "    </tr>\n",
       "    <tr>\n",
       "      <th>std</th>\n",
       "      <td>7.176528e+00</td>\n",
       "      <td>2.748737e+00</td>\n",
       "      <td>3.842504e+01</td>\n",
       "      <td>9.948272e-01</td>\n",
       "    </tr>\n",
       "    <tr>\n",
       "      <th>min</th>\n",
       "      <td>2.040000e+02</td>\n",
       "      <td>0.000000e+00</td>\n",
       "      <td>-1.000000e+00</td>\n",
       "      <td>0.000000e+00</td>\n",
       "    </tr>\n",
       "    <tr>\n",
       "      <th>25%</th>\n",
       "      <td>2.100000e+02</td>\n",
       "      <td>2.000000e+00</td>\n",
       "      <td>1.200000e-02</td>\n",
       "      <td>0.000000e+00</td>\n",
       "    </tr>\n",
       "    <tr>\n",
       "      <th>50%</th>\n",
       "      <td>2.160000e+02</td>\n",
       "      <td>4.500000e+00</td>\n",
       "      <td>7.200000e-02</td>\n",
       "      <td>0.000000e+00</td>\n",
       "    </tr>\n",
       "    <tr>\n",
       "      <th>75%</th>\n",
       "      <td>2.220000e+02</td>\n",
       "      <td>7.000000e+00</td>\n",
       "      <td>1.500000e+01</td>\n",
       "      <td>0.000000e+00</td>\n",
       "    </tr>\n",
       "    <tr>\n",
       "      <th>max</th>\n",
       "      <td>2.280000e+02</td>\n",
       "      <td>8.000000e+00</td>\n",
       "      <td>6.256000e+03</td>\n",
       "      <td>9.000000e+00</td>\n",
       "    </tr>\n",
       "  </tbody>\n",
       "</table>\n",
       "</div>"
      ],
      "text/plain": [
       "       Station code     Item code  Average value  Instrument status\n",
       "count  3.703662e+06  3.703662e+06   3.703662e+06       3.703662e+06\n",
       "mean   2.159581e+02  4.333333e+00   1.170491e+01       1.377877e-01\n",
       "std    7.176528e+00  2.748737e+00   3.842504e+01       9.948272e-01\n",
       "min    2.040000e+02  0.000000e+00  -1.000000e+00       0.000000e+00\n",
       "25%    2.100000e+02  2.000000e+00   1.200000e-02       0.000000e+00\n",
       "50%    2.160000e+02  4.500000e+00   7.200000e-02       0.000000e+00\n",
       "75%    2.220000e+02  7.000000e+00   1.500000e+01       0.000000e+00\n",
       "max    2.280000e+02  8.000000e+00   6.256000e+03       9.000000e+00"
      ]
     },
     "execution_count": 5,
     "metadata": {},
     "output_type": "execute_result"
    }
   ],
   "source": [
    "raw_instrument_df.describe()"
   ]
  },
  {
   "cell_type": "code",
   "execution_count": 6,
   "metadata": {},
   "outputs": [
    {
     "data": {
      "application/vnd.microsoft.datawrangler.viewer.v0+json": {
       "columns": [
        {
         "name": "index",
         "rawType": "int64",
         "type": "integer"
        },
        {
         "name": "Measurement date",
         "rawType": "object",
         "type": "string"
        },
        {
         "name": "Station code",
         "rawType": "int64",
         "type": "integer"
        },
        {
         "name": "Item code",
         "rawType": "int64",
         "type": "integer"
        },
        {
         "name": "Average value",
         "rawType": "float64",
         "type": "float"
        },
        {
         "name": "Instrument status",
         "rawType": "int64",
         "type": "integer"
        }
       ],
       "conversionMethod": "pd.DataFrame",
       "ref": "7c41e217-f7f3-4d1e-9391-92adf7272913",
       "rows": [
        [
         "614",
         "2021-01-05 06:00:00",
         "204",
         "4",
         "0.1",
         "9"
        ],
        [
         "1380",
         "2021-01-10 14:00:00",
         "204",
         "0",
         "0.051",
         "1"
        ],
        [
         "1381",
         "2021-01-10 14:00:00",
         "204",
         "2",
         "0.0069999999999999",
         "1"
        ],
        [
         "1382",
         "2021-01-10 14:00:00",
         "204",
         "4",
         "6.0",
         "1"
        ],
        [
         "1383",
         "2021-01-10 14:00:00",
         "204",
         "5",
         "0.0139999999999999",
         "1"
        ],
        [
         "1384",
         "2021-01-10 14:00:00",
         "204",
         "7",
         "143.0",
         "1"
        ],
        [
         "1385",
         "2021-01-10 14:00:00",
         "204",
         "8",
         "149.0",
         "1"
        ],
        [
         "1386",
         "2021-01-10 15:00:00",
         "204",
         "0",
         "0.0289999999999999",
         "9"
        ],
        [
         "1388",
         "2021-01-10 15:00:00",
         "204",
         "4",
         "2.9",
         "9"
        ],
        [
         "1389",
         "2021-01-10 15:00:00",
         "204",
         "5",
         "0.052",
         "9"
        ],
        [
         "1390",
         "2021-01-10 15:00:00",
         "204",
         "7",
         "101.0",
         "9"
        ],
        [
         "1391",
         "2021-01-10 15:00:00",
         "204",
         "8",
         "84.0",
         "9"
        ],
        [
         "3240",
         "2021-01-23 12:00:00",
         "204",
         "0",
         "0.106",
         "1"
        ],
        [
         "3241",
         "2021-01-23 12:00:00",
         "204",
         "2",
         "0.002",
         "1"
        ],
        [
         "3242",
         "2021-01-23 12:00:00",
         "204",
         "4",
         "11.2",
         "1"
        ],
        [
         "3243",
         "2021-01-23 12:00:00",
         "204",
         "5",
         "0.001",
         "1"
        ],
        [
         "3244",
         "2021-01-23 12:00:00",
         "204",
         "7",
         "388.0",
         "1"
        ],
        [
         "3245",
         "2021-01-23 12:00:00",
         "204",
         "8",
         "380.0",
         "1"
        ],
        [
         "3246",
         "2021-01-23 13:00:00",
         "204",
         "0",
         "0.061",
         "1"
        ],
        [
         "3248",
         "2021-01-23 13:00:00",
         "204",
         "4",
         "6.1",
         "1"
        ],
        [
         "3249",
         "2021-01-23 13:00:00",
         "204",
         "5",
         "0.0559999999999999",
         "1"
        ],
        [
         "3250",
         "2021-01-23 13:00:00",
         "204",
         "7",
         "204.0",
         "1"
        ],
        [
         "3251",
         "2021-01-23 13:00:00",
         "204",
         "8",
         "191.0",
         "1"
        ],
        [
         "3257",
         "2021-01-23 14:00:00",
         "204",
         "8",
         "16.0",
         "1"
        ],
        [
         "4382",
         "2021-01-31 10:00:00",
         "204",
         "4",
         "0.1",
         "9"
        ],
        [
         "4814",
         "2021-02-03 10:00:00",
         "204",
         "4",
         "0.1",
         "9"
        ],
        [
         "5124",
         "2021-02-05 14:00:00",
         "204",
         "0",
         "-1.0",
         "4"
        ],
        [
         "5125",
         "2021-02-05 14:00:00",
         "204",
         "2",
         "-1.0",
         "4"
        ],
        [
         "5126",
         "2021-02-05 14:00:00",
         "204",
         "4",
         "-1.0",
         "4"
        ],
        [
         "5127",
         "2021-02-05 14:00:00",
         "204",
         "5",
         "-1.0",
         "4"
        ],
        [
         "5128",
         "2021-02-05 14:00:00",
         "204",
         "7",
         "-1.0",
         "4"
        ],
        [
         "5129",
         "2021-02-05 14:00:00",
         "204",
         "8",
         "-1.0",
         "4"
        ],
        [
         "5130",
         "2021-02-05 15:00:00",
         "204",
         "0",
         "-1.0",
         "4"
        ],
        [
         "5131",
         "2021-02-05 15:00:00",
         "204",
         "2",
         "-1.0",
         "4"
        ],
        [
         "5132",
         "2021-02-05 15:00:00",
         "204",
         "4",
         "-1.0",
         "4"
        ],
        [
         "5133",
         "2021-02-05 15:00:00",
         "204",
         "5",
         "-1.0",
         "4"
        ],
        [
         "5134",
         "2021-02-05 15:00:00",
         "204",
         "7",
         "-1.0",
         "4"
        ],
        [
         "5135",
         "2021-02-05 15:00:00",
         "204",
         "8",
         "-1.0",
         "4"
        ],
        [
         "5136",
         "2021-02-05 16:00:00",
         "204",
         "0",
         "-1.0",
         "4"
        ],
        [
         "5137",
         "2021-02-05 16:00:00",
         "204",
         "2",
         "-1.0",
         "4"
        ],
        [
         "5138",
         "2021-02-05 16:00:00",
         "204",
         "4",
         "-1.0",
         "4"
        ],
        [
         "5139",
         "2021-02-05 16:00:00",
         "204",
         "5",
         "-1.0",
         "4"
        ],
        [
         "5140",
         "2021-02-05 16:00:00",
         "204",
         "7",
         "-1.0",
         "4"
        ],
        [
         "5141",
         "2021-02-05 16:00:00",
         "204",
         "8",
         "-1.0",
         "4"
        ],
        [
         "5142",
         "2021-02-05 17:00:00",
         "204",
         "0",
         "-1.0",
         "4"
        ],
        [
         "5143",
         "2021-02-05 17:00:00",
         "204",
         "2",
         "-1.0",
         "4"
        ],
        [
         "5144",
         "2021-02-05 17:00:00",
         "204",
         "4",
         "-1.0",
         "4"
        ],
        [
         "5145",
         "2021-02-05 17:00:00",
         "204",
         "5",
         "-1.0",
         "4"
        ],
        [
         "5146",
         "2021-02-05 17:00:00",
         "204",
         "7",
         "-1.0",
         "4"
        ],
        [
         "5147",
         "2021-02-05 17:00:00",
         "204",
         "8",
         "-1.0",
         "4"
        ]
       ],
       "shape": {
        "columns": 5,
        "rows": 96966
       }
      },
      "text/html": [
       "<div>\n",
       "<style scoped>\n",
       "    .dataframe tbody tr th:only-of-type {\n",
       "        vertical-align: middle;\n",
       "    }\n",
       "\n",
       "    .dataframe tbody tr th {\n",
       "        vertical-align: top;\n",
       "    }\n",
       "\n",
       "    .dataframe thead th {\n",
       "        text-align: right;\n",
       "    }\n",
       "</style>\n",
       "<table border=\"1\" class=\"dataframe\">\n",
       "  <thead>\n",
       "    <tr style=\"text-align: right;\">\n",
       "      <th></th>\n",
       "      <th>Measurement date</th>\n",
       "      <th>Station code</th>\n",
       "      <th>Item code</th>\n",
       "      <th>Average value</th>\n",
       "      <th>Instrument status</th>\n",
       "    </tr>\n",
       "  </thead>\n",
       "  <tbody>\n",
       "    <tr>\n",
       "      <th>614</th>\n",
       "      <td>2021-01-05 06:00:00</td>\n",
       "      <td>204</td>\n",
       "      <td>4</td>\n",
       "      <td>0.100</td>\n",
       "      <td>9</td>\n",
       "    </tr>\n",
       "    <tr>\n",
       "      <th>1380</th>\n",
       "      <td>2021-01-10 14:00:00</td>\n",
       "      <td>204</td>\n",
       "      <td>0</td>\n",
       "      <td>0.051</td>\n",
       "      <td>1</td>\n",
       "    </tr>\n",
       "    <tr>\n",
       "      <th>1381</th>\n",
       "      <td>2021-01-10 14:00:00</td>\n",
       "      <td>204</td>\n",
       "      <td>2</td>\n",
       "      <td>0.007</td>\n",
       "      <td>1</td>\n",
       "    </tr>\n",
       "    <tr>\n",
       "      <th>1382</th>\n",
       "      <td>2021-01-10 14:00:00</td>\n",
       "      <td>204</td>\n",
       "      <td>4</td>\n",
       "      <td>6.000</td>\n",
       "      <td>1</td>\n",
       "    </tr>\n",
       "    <tr>\n",
       "      <th>1383</th>\n",
       "      <td>2021-01-10 14:00:00</td>\n",
       "      <td>204</td>\n",
       "      <td>5</td>\n",
       "      <td>0.014</td>\n",
       "      <td>1</td>\n",
       "    </tr>\n",
       "    <tr>\n",
       "      <th>...</th>\n",
       "      <td>...</td>\n",
       "      <td>...</td>\n",
       "      <td>...</td>\n",
       "      <td>...</td>\n",
       "      <td>...</td>\n",
       "    </tr>\n",
       "    <tr>\n",
       "      <th>3703067</th>\n",
       "      <td>2023-11-26 20:00:00</td>\n",
       "      <td>228</td>\n",
       "      <td>7</td>\n",
       "      <td>17.000</td>\n",
       "      <td>9</td>\n",
       "    </tr>\n",
       "    <tr>\n",
       "      <th>3703072</th>\n",
       "      <td>2023-11-26 21:00:00</td>\n",
       "      <td>228</td>\n",
       "      <td>7</td>\n",
       "      <td>15.000</td>\n",
       "      <td>9</td>\n",
       "    </tr>\n",
       "    <tr>\n",
       "      <th>3703081</th>\n",
       "      <td>2023-11-26 23:00:00</td>\n",
       "      <td>228</td>\n",
       "      <td>7</td>\n",
       "      <td>45.000</td>\n",
       "      <td>9</td>\n",
       "    </tr>\n",
       "    <tr>\n",
       "      <th>3703326</th>\n",
       "      <td>2023-11-28 16:00:00</td>\n",
       "      <td>228</td>\n",
       "      <td>8</td>\n",
       "      <td>12.000</td>\n",
       "      <td>1</td>\n",
       "    </tr>\n",
       "    <tr>\n",
       "      <th>3703327</th>\n",
       "      <td>2023-11-28 16:00:00</td>\n",
       "      <td>228</td>\n",
       "      <td>7</td>\n",
       "      <td>21.000</td>\n",
       "      <td>1</td>\n",
       "    </tr>\n",
       "  </tbody>\n",
       "</table>\n",
       "<p>96966 rows × 5 columns</p>\n",
       "</div>"
      ],
      "text/plain": [
       "            Measurement date  Station code  Item code  Average value  \\\n",
       "614      2021-01-05 06:00:00           204          4          0.100   \n",
       "1380     2021-01-10 14:00:00           204          0          0.051   \n",
       "1381     2021-01-10 14:00:00           204          2          0.007   \n",
       "1382     2021-01-10 14:00:00           204          4          6.000   \n",
       "1383     2021-01-10 14:00:00           204          5          0.014   \n",
       "...                      ...           ...        ...            ...   \n",
       "3703067  2023-11-26 20:00:00           228          7         17.000   \n",
       "3703072  2023-11-26 21:00:00           228          7         15.000   \n",
       "3703081  2023-11-26 23:00:00           228          7         45.000   \n",
       "3703326  2023-11-28 16:00:00           228          8         12.000   \n",
       "3703327  2023-11-28 16:00:00           228          7         21.000   \n",
       "\n",
       "         Instrument status  \n",
       "614                      9  \n",
       "1380                     1  \n",
       "1381                     1  \n",
       "1382                     1  \n",
       "1383                     1  \n",
       "...                    ...  \n",
       "3703067                  9  \n",
       "3703072                  9  \n",
       "3703081                  9  \n",
       "3703326                  1  \n",
       "3703327                  1  \n",
       "\n",
       "[96966 rows x 5 columns]"
      ]
     },
     "execution_count": 6,
     "metadata": {},
     "output_type": "execute_result"
    }
   ],
   "source": [
    "raw_instrument_df.loc[raw_instrument_df['Instrument status']!=0]"
   ]
  },
  {
   "cell_type": "code",
   "execution_count": 7,
   "metadata": {},
   "outputs": [
    {
     "data": {
      "text/plain": [
       "Instrument status\n",
       "0    3606696\n",
       "8      28323\n",
       "1      27147\n",
       "9      19668\n",
       "4      17960\n",
       "2       3868\n",
       "Name: count, dtype: int64"
      ]
     },
     "execution_count": 7,
     "metadata": {},
     "output_type": "execute_result"
    }
   ],
   "source": [
    "raw_instrument_df[\"Instrument status\"].value_counts()"
   ]
  },
  {
   "cell_type": "markdown",
   "metadata": {},
   "source": [
    "## measurement_data"
   ]
  },
  {
   "cell_type": "code",
   "execution_count": 8,
   "metadata": {},
   "outputs": [
    {
     "name": "stdout",
     "output_type": "stream",
     "text": [
      "<class 'pandas.core.frame.DataFrame'>\n",
      "RangeIndex: 621588 entries, 0 to 621587\n",
      "Data columns (total 10 columns):\n",
      " #   Column            Non-Null Count   Dtype  \n",
      "---  ------            --------------   -----  \n",
      " 0   Measurement date  621588 non-null  object \n",
      " 1   Station code      621588 non-null  int64  \n",
      " 2   Latitude          621588 non-null  float64\n",
      " 3   Longitude         621588 non-null  float64\n",
      " 4   SO2               621588 non-null  float64\n",
      " 5   NO2               621588 non-null  float64\n",
      " 6   O3                621588 non-null  float64\n",
      " 7   CO                621588 non-null  float64\n",
      " 8   PM10              621588 non-null  float64\n",
      " 9   PM2.5             621588 non-null  float64\n",
      "dtypes: float64(8), int64(1), object(1)\n",
      "memory usage: 47.4+ MB\n"
     ]
    }
   ],
   "source": [
    "raw_measurement_df.info()"
   ]
  },
  {
   "cell_type": "code",
   "execution_count": 9,
   "metadata": {},
   "outputs": [
    {
     "data": {
      "application/vnd.microsoft.datawrangler.viewer.v0+json": {
       "columns": [
        {
         "name": "index",
         "rawType": "object",
         "type": "string"
        },
        {
         "name": "Station code",
         "rawType": "float64",
         "type": "float"
        },
        {
         "name": "Latitude",
         "rawType": "float64",
         "type": "float"
        },
        {
         "name": "Longitude",
         "rawType": "float64",
         "type": "float"
        },
        {
         "name": "SO2",
         "rawType": "float64",
         "type": "float"
        },
        {
         "name": "NO2",
         "rawType": "float64",
         "type": "float"
        },
        {
         "name": "O3",
         "rawType": "float64",
         "type": "float"
        },
        {
         "name": "CO",
         "rawType": "float64",
         "type": "float"
        },
        {
         "name": "PM10",
         "rawType": "float64",
         "type": "float"
        },
        {
         "name": "PM2.5",
         "rawType": "float64",
         "type": "float"
        }
       ],
       "conversionMethod": "pd.DataFrame",
       "ref": "95067a0a-7dc4-49a1-930d-e81ae3691442",
       "rows": [
        [
         "count",
         "621588.0",
         "621588.0",
         "621588.0",
         "621588.0",
         "621588.0",
         "621588.0",
         "621588.0",
         "621588.0",
         "621588.0"
        ],
        [
         "mean",
         "215.9809150112293",
         "37.55400313851313",
         "126.98892968541062",
         "-0.0013503751681177931",
         "0.02290439004613988",
         "0.01871784365206536",
         "0.5085982998384783",
         "43.978419789313826",
         "25.504612379904373"
        ],
        [
         "std",
         "7.192600311731393",
         "0.053397131869577216",
         "0.07882854946973862",
         "0.07621980985675089",
         "0.11448255233700781",
         "0.0977986348089355",
         "0.39956850327016846",
         "71.66473847008022",
         "43.76079563201992"
        ],
        [
         "min",
         "204.0",
         "37.4523569",
         "126.8351506",
         "-1.0",
         "-1.0",
         "-1.0",
         "-1.0",
         "-1.0",
         "-1.0"
        ],
        [
         "25%",
         "210.0",
         "37.5175282",
         "126.927102",
         "0.003",
         "0.016",
         "0.009",
         "0.3",
         "22.0",
         "11.0"
        ],
        [
         "50%",
         "216.0",
         "37.5449625",
         "127.00485",
         "0.004",
         "0.025",
         "0.021",
         "0.5",
         "35.0",
         "19.0"
        ],
        [
         "75%",
         "222.0",
         "37.5848485",
         "127.0474699",
         "0.005",
         "0.038",
         "0.035",
         "0.6",
         "53.0",
         "31.0"
        ],
        [
         "max",
         "228.0",
         "37.6587743",
         "127.13679170000002",
         "3.736",
         "38.445",
         "33.6",
         "71.7",
         "3586.0",
         "6256.0"
        ]
       ],
       "shape": {
        "columns": 9,
        "rows": 8
       }
      },
      "text/html": [
       "<div>\n",
       "<style scoped>\n",
       "    .dataframe tbody tr th:only-of-type {\n",
       "        vertical-align: middle;\n",
       "    }\n",
       "\n",
       "    .dataframe tbody tr th {\n",
       "        vertical-align: top;\n",
       "    }\n",
       "\n",
       "    .dataframe thead th {\n",
       "        text-align: right;\n",
       "    }\n",
       "</style>\n",
       "<table border=\"1\" class=\"dataframe\">\n",
       "  <thead>\n",
       "    <tr style=\"text-align: right;\">\n",
       "      <th></th>\n",
       "      <th>Station code</th>\n",
       "      <th>Latitude</th>\n",
       "      <th>Longitude</th>\n",
       "      <th>SO2</th>\n",
       "      <th>NO2</th>\n",
       "      <th>O3</th>\n",
       "      <th>CO</th>\n",
       "      <th>PM10</th>\n",
       "      <th>PM2.5</th>\n",
       "    </tr>\n",
       "  </thead>\n",
       "  <tbody>\n",
       "    <tr>\n",
       "      <th>count</th>\n",
       "      <td>621588.000000</td>\n",
       "      <td>621588.000000</td>\n",
       "      <td>621588.000000</td>\n",
       "      <td>621588.00000</td>\n",
       "      <td>621588.000000</td>\n",
       "      <td>621588.000000</td>\n",
       "      <td>621588.000000</td>\n",
       "      <td>621588.000000</td>\n",
       "      <td>621588.000000</td>\n",
       "    </tr>\n",
       "    <tr>\n",
       "      <th>mean</th>\n",
       "      <td>215.980915</td>\n",
       "      <td>37.554003</td>\n",
       "      <td>126.988930</td>\n",
       "      <td>-0.00135</td>\n",
       "      <td>0.022904</td>\n",
       "      <td>0.018718</td>\n",
       "      <td>0.508598</td>\n",
       "      <td>43.978420</td>\n",
       "      <td>25.504612</td>\n",
       "    </tr>\n",
       "    <tr>\n",
       "      <th>std</th>\n",
       "      <td>7.192600</td>\n",
       "      <td>0.053397</td>\n",
       "      <td>0.078829</td>\n",
       "      <td>0.07622</td>\n",
       "      <td>0.114483</td>\n",
       "      <td>0.097799</td>\n",
       "      <td>0.399569</td>\n",
       "      <td>71.664738</td>\n",
       "      <td>43.760796</td>\n",
       "    </tr>\n",
       "    <tr>\n",
       "      <th>min</th>\n",
       "      <td>204.000000</td>\n",
       "      <td>37.452357</td>\n",
       "      <td>126.835151</td>\n",
       "      <td>-1.00000</td>\n",
       "      <td>-1.000000</td>\n",
       "      <td>-1.000000</td>\n",
       "      <td>-1.000000</td>\n",
       "      <td>-1.000000</td>\n",
       "      <td>-1.000000</td>\n",
       "    </tr>\n",
       "    <tr>\n",
       "      <th>25%</th>\n",
       "      <td>210.000000</td>\n",
       "      <td>37.517528</td>\n",
       "      <td>126.927102</td>\n",
       "      <td>0.00300</td>\n",
       "      <td>0.016000</td>\n",
       "      <td>0.009000</td>\n",
       "      <td>0.300000</td>\n",
       "      <td>22.000000</td>\n",
       "      <td>11.000000</td>\n",
       "    </tr>\n",
       "    <tr>\n",
       "      <th>50%</th>\n",
       "      <td>216.000000</td>\n",
       "      <td>37.544962</td>\n",
       "      <td>127.004850</td>\n",
       "      <td>0.00400</td>\n",
       "      <td>0.025000</td>\n",
       "      <td>0.021000</td>\n",
       "      <td>0.500000</td>\n",
       "      <td>35.000000</td>\n",
       "      <td>19.000000</td>\n",
       "    </tr>\n",
       "    <tr>\n",
       "      <th>75%</th>\n",
       "      <td>222.000000</td>\n",
       "      <td>37.584848</td>\n",
       "      <td>127.047470</td>\n",
       "      <td>0.00500</td>\n",
       "      <td>0.038000</td>\n",
       "      <td>0.035000</td>\n",
       "      <td>0.600000</td>\n",
       "      <td>53.000000</td>\n",
       "      <td>31.000000</td>\n",
       "    </tr>\n",
       "    <tr>\n",
       "      <th>max</th>\n",
       "      <td>228.000000</td>\n",
       "      <td>37.658774</td>\n",
       "      <td>127.136792</td>\n",
       "      <td>3.73600</td>\n",
       "      <td>38.445000</td>\n",
       "      <td>33.600000</td>\n",
       "      <td>71.700000</td>\n",
       "      <td>3586.000000</td>\n",
       "      <td>6256.000000</td>\n",
       "    </tr>\n",
       "  </tbody>\n",
       "</table>\n",
       "</div>"
      ],
      "text/plain": [
       "        Station code       Latitude      Longitude           SO2  \\\n",
       "count  621588.000000  621588.000000  621588.000000  621588.00000   \n",
       "mean      215.980915      37.554003     126.988930      -0.00135   \n",
       "std         7.192600       0.053397       0.078829       0.07622   \n",
       "min       204.000000      37.452357     126.835151      -1.00000   \n",
       "25%       210.000000      37.517528     126.927102       0.00300   \n",
       "50%       216.000000      37.544962     127.004850       0.00400   \n",
       "75%       222.000000      37.584848     127.047470       0.00500   \n",
       "max       228.000000      37.658774     127.136792       3.73600   \n",
       "\n",
       "                 NO2             O3             CO           PM10  \\\n",
       "count  621588.000000  621588.000000  621588.000000  621588.000000   \n",
       "mean        0.022904       0.018718       0.508598      43.978420   \n",
       "std         0.114483       0.097799       0.399569      71.664738   \n",
       "min        -1.000000      -1.000000      -1.000000      -1.000000   \n",
       "25%         0.016000       0.009000       0.300000      22.000000   \n",
       "50%         0.025000       0.021000       0.500000      35.000000   \n",
       "75%         0.038000       0.035000       0.600000      53.000000   \n",
       "max        38.445000      33.600000      71.700000    3586.000000   \n",
       "\n",
       "               PM2.5  \n",
       "count  621588.000000  \n",
       "mean       25.504612  \n",
       "std        43.760796  \n",
       "min        -1.000000  \n",
       "25%        11.000000  \n",
       "50%        19.000000  \n",
       "75%        31.000000  \n",
       "max      6256.000000  "
      ]
     },
     "execution_count": 9,
     "metadata": {},
     "output_type": "execute_result"
    }
   ],
   "source": [
    "raw_measurement_df.describe()"
   ]
  },
  {
   "cell_type": "markdown",
   "metadata": {},
   "source": [
    "## pollutant_data"
   ]
  },
  {
   "cell_type": "code",
   "execution_count": 10,
   "metadata": {},
   "outputs": [
    {
     "name": "stdout",
     "output_type": "stream",
     "text": [
      "<class 'pandas.core.frame.DataFrame'>\n",
      "RangeIndex: 6 entries, 0 to 5\n",
      "Data columns (total 7 columns):\n",
      " #   Column               Non-Null Count  Dtype  \n",
      "---  ------               --------------  -----  \n",
      " 0   Item code            6 non-null      int64  \n",
      " 1   Item name            6 non-null      object \n",
      " 2   Unit of measurement  6 non-null      object \n",
      " 3   Good                 6 non-null      float64\n",
      " 4   Normal               6 non-null      float64\n",
      " 5   Bad                  6 non-null      float64\n",
      " 6   Very bad             6 non-null      float64\n",
      "dtypes: float64(4), int64(1), object(2)\n",
      "memory usage: 468.0+ bytes\n"
     ]
    }
   ],
   "source": [
    "raw_pollutant_df.info()\n"
   ]
  }
 ],
 "metadata": {
  "kernelspec": {
   "display_name": "venv",
   "language": "python",
   "name": "python3"
  },
  "language_info": {
   "codemirror_mode": {
    "name": "ipython",
    "version": 3
   },
   "file_extension": ".py",
   "mimetype": "text/x-python",
   "name": "python",
   "nbconvert_exporter": "python",
   "pygments_lexer": "ipython3",
   "version": "3.12.5"
  }
 },
 "nbformat": 4,
 "nbformat_minor": 2
}
