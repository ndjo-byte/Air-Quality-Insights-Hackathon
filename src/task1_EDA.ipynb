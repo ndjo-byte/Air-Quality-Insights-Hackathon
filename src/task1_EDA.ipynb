{
 "cells": [
  {
   "cell_type": "code",
   "execution_count": 119,
   "metadata": {},
   "outputs": [],
   "source": [
    "import pandas as pd \n",
    "import numpy as np\n",
    "import json"
   ]
  },
  {
   "cell_type": "code",
   "execution_count": 120,
   "metadata": {},
   "outputs": [],
   "source": [
    "raw_instrument_path = '/Users/nathanjones/Downloads/NUWE/Hackathons/Schneider_DataScience/hackathon-schneider-pollution/data/raw/instrument_data.csv'\n",
    "raw_measurement_path = '/Users/nathanjones/Downloads/NUWE/Hackathons/Schneider_DataScience/hackathon-schneider-pollution/data/raw/measurement_data.csv'\n",
    "raw_pollutant_path = '/Users/nathanjones/Downloads/NUWE/Hackathons/Schneider_DataScience/hackathon-schneider-pollution/data/raw/pollutant_data.csv'\n",
    "\n",
    "raw_instrument_df = pd.read_csv(raw_instrument_path)\n",
    "raw_measurement_df = pd.read_csv(raw_measurement_path)\n",
    "raw_pollutant_df = pd.read_csv(raw_pollutant_path)"
   ]
  },
  {
   "cell_type": "markdown",
   "metadata": {},
   "source": [
    "<mark>update datatype</mark> to datetime"
   ]
  },
  {
   "cell_type": "code",
   "execution_count": 121,
   "metadata": {},
   "outputs": [],
   "source": [
    "raw_instrument_df[\"Measurement date\"] = pd.to_datetime(raw_instrument_df[\"Measurement date\"])"
   ]
  },
  {
   "cell_type": "markdown",
   "metadata": {},
   "source": [
    "## IMPORTANT Answer the following questions considering only measurements with the value tagged as \"Normal\" (code 0):"
   ]
  },
  {
   "cell_type": "code",
   "execution_count": 122,
   "metadata": {},
   "outputs": [],
   "source": [
    "#All Qs\n",
    "instrument_status_normal = 0\n",
    "\n",
    "#Q1\n",
    "pollutantSO2_item_code = raw_pollutant_df.loc[raw_pollutant_df[\"Item name\"] == 'SO2', \"Item code\"].iloc[0]\n",
    "\n",
    "#Q2\n",
    "pollutantCO_item_code = raw_pollutant_df.loc[raw_pollutant_df[\"Item name\"] == 'CO', \"Item code\"].iloc[0]\n",
    "question2_station = 209\n",
    "\n",
    "#Q3\n",
    "pollutantO3_item_code = raw_pollutant_df.loc[raw_pollutant_df[\"Item name\"] == 'O3', \"Item code\"].iloc[0]\n",
    "\n",
    "#Q4\n",
    "instrument_status_abnormal = 9\n",
    "\n",
    "#Q5\n",
    "\n",
    "#Q6\n",
    "pollutantPM25_item_code = raw_pollutant_df.loc[raw_pollutant_df[\"Item name\"] == 'PM2.5', \"Item code\"].iloc[0]"
   ]
  },
  {
   "cell_type": "markdown",
   "metadata": {},
   "source": [
    "### Q1: Average daily SO2 concentration across all districts over the entire period. Give the station average. Provide the answer with 5 decimals."
   ]
  },
  {
   "cell_type": "code",
   "execution_count": 123,
   "metadata": {},
   "outputs": [],
   "source": [
    "normal_SO2_measurement = raw_instrument_df.loc[\n",
    "    (raw_instrument_df[\"Item code\"] == pollutantSO2_item_code)&(raw_instrument_df[\"Instrument status\"]==instrument_status_normal)\n",
    "    ][\"Average value\"].to_numpy()\n",
    "average_SO2_concentration = normal_SO2_measurement.mean().round(5)"
   ]
  },
  {
   "cell_type": "markdown",
   "metadata": {},
   "source": [
    "### Q2: Analyse how pollution levels vary by season. Return the average levels of CO per season at the station 209. (Take the whole month of December as part of winter, March as spring, and so on.) Provide the answer with 5 decimals."
   ]
  },
  {
   "cell_type": "code",
   "execution_count": 124,
   "metadata": {},
   "outputs": [],
   "source": [
    "def id_season(date_col):\n",
    "    month = date_col.month\n",
    "\n",
    "    if month in [12,1,2]:\n",
    "        return 1\n",
    "    elif month in [3,4,5]:\n",
    "        return 2\n",
    "    elif month in [6,7,8]:\n",
    "        return 3\n",
    "    else:\n",
    "        return 4\n",
    "\n"
   ]
  },
  {
   "cell_type": "markdown",
   "metadata": {},
   "source": [
    "<mark>create new column</mark> : raw_instrument_df[\"Season\"]"
   ]
  },
  {
   "cell_type": "code",
   "execution_count": 125,
   "metadata": {},
   "outputs": [],
   "source": [
    "raw_instrument_df['Season'] = raw_instrument_df[\"Measurement date\"].apply(id_season)"
   ]
  },
  {
   "cell_type": "code",
   "execution_count": 126,
   "metadata": {},
   "outputs": [],
   "source": [
    "CO_station209 = raw_instrument_df.loc[\n",
    "    (raw_instrument_df[\"Item code\"]==pollutantCO_item_code)\n",
    "    &(raw_instrument_df[\"Station code\"]==question2_station)\n",
    "    &(raw_instrument_df[\"Instrument status\"]==instrument_status_normal)\n",
    "    ]\n"
   ]
  },
  {
   "cell_type": "code",
   "execution_count": 127,
   "metadata": {},
   "outputs": [],
   "source": [
    "avg_seasonal_co_pollution = CO_station209.groupby(\"Season\")['Average value'].mean().round(5)\n",
    "\n"
   ]
  },
  {
   "cell_type": "code",
   "execution_count": 128,
   "metadata": {},
   "outputs": [
    {
     "name": "stdout",
     "output_type": "stream",
     "text": [
      "Season\n",
      "1    0.68040\n",
      "2    0.47805\n",
      "3    0.42521\n",
      "4    0.49979\n",
      "Name: Average value, dtype: float64\n"
     ]
    }
   ],
   "source": [
    "print(avg_seasonal_co_pollution)"
   ]
  },
  {
   "cell_type": "markdown",
   "metadata": {},
   "source": [
    "### Q3: Which hour presents the highest variability (Standard Deviation) for the pollutant O3? Treat all stations as equal."
   ]
  },
  {
   "cell_type": "markdown",
   "metadata": {},
   "source": [
    "<mark>create new column</mark> : raw_instrument_df[\"Hour\"]\n",
    "\n",
    "<mark>create new df</mark> : removing negative Average values"
   ]
  },
  {
   "cell_type": "code",
   "execution_count": 129,
   "metadata": {},
   "outputs": [],
   "source": [
    "raw_instrument_df['Hour'] = raw_instrument_df[\"Measurement date\"].dt.hour\n",
    "\n",
    "instrument_positives = raw_instrument_df[\n",
    "    (raw_instrument_df[\"Average value\"]>0)\n",
    "    ]\n"
   ]
  },
  {
   "cell_type": "code",
   "execution_count": 130,
   "metadata": {},
   "outputs": [],
   "source": [
    "pollutantO3_subset = instrument_positives.loc[\n",
    "    (instrument_positives[\"Item code\"]==pollutantO3_item_code)\n",
    "    ]\n"
   ]
  },
  {
   "cell_type": "code",
   "execution_count": 131,
   "metadata": {},
   "outputs": [],
   "source": [
    "pollutantO3_subset = pollutantO3_subset.copy()\n",
    "\n",
    "pollutantO3_subset[\"Normalized Value\"] = pollutantO3_subset.groupby(\"Station code\")[\"Average value\"].transform(\n",
    "    lambda x: (x - x.mean()) / x.std()\n",
    ")\n",
    "\n",
    "pollutantO3_hourly_stdv = pollutantO3_subset.groupby(\"Hour\")[\"Normalized Value\"].std().sort_values(ascending=False)\n",
    "highest_variability_hour = pollutantO3_hourly_stdv.idxmax()"
   ]
  },
  {
   "cell_type": "code",
   "execution_count": 132,
   "metadata": {},
   "outputs": [
    {
     "name": "stdout",
     "output_type": "stream",
     "text": [
      "15\n"
     ]
    }
   ],
   "source": [
    "print(highest_variability_hour)"
   ]
  },
  {
   "cell_type": "markdown",
   "metadata": {},
   "source": [
    "### Q4: Which is the station code with more measurements labeled as \"Abnormal data\"?"
   ]
  },
  {
   "cell_type": "code",
   "execution_count": 133,
   "metadata": {},
   "outputs": [],
   "source": [
    "abnormal_subset = raw_instrument_df.loc[\n",
    "    (raw_instrument_df[\"Instrument status\"]==instrument_status_abnormal)\n",
    "    ]\n",
    "station_most_abnormal = abnormal_subset[\"Station code\"].value_counts().sort_values(ascending=False).idxmax()"
   ]
  },
  {
   "cell_type": "markdown",
   "metadata": {},
   "source": [
    "### Q5: Which station code has more \"not normal\" measurements (!= 0)?"
   ]
  },
  {
   "cell_type": "code",
   "execution_count": 134,
   "metadata": {},
   "outputs": [],
   "source": [
    "notnormal_subset = raw_instrument_df.loc[\n",
    "    (raw_instrument_df[\"Instrument status\"]!=0)\n",
    "     ]\n",
    "\n",
    "station_most_notnormal = notnormal_subset[\"Station code\"].value_counts().sort_values(ascending=False).idxmax()"
   ]
  },
  {
   "cell_type": "markdown",
   "metadata": {},
   "source": [
    "### Q6: Return the count of Good, Normal, Bad and Very bad records for all the station codes of PM2.5 pollutant."
   ]
  },
  {
   "cell_type": "code",
   "execution_count": 144,
   "metadata": {},
   "outputs": [],
   "source": [
    "def record_status(row):\n",
    "    \n",
    "    item_col = row[\"Item code\"]\n",
    "    value_col = row[\"Average value\"]\n",
    "\n",
    "    if item_col == pollutantPM25_item_code:\n",
    "        \n",
    "        if value_col <= 15.0:\n",
    "            return \"Good\"\n",
    "        \n",
    "        elif value_col <= 35.0:\n",
    "            return \"Normal\"\n",
    "        \n",
    "        elif value_col <= 75.0:\n",
    "            return \"Bad\"\n",
    "\n",
    "        else:\n",
    "            return \"Very bad\"\n",
    "    \n",
    "    return None\n",
    "\n",
    "#encoding \n",
    "raw_instrument_df['Pollutant Status'] = raw_instrument_df.apply(record_status, axis=1)\n",
    "\n",
    "#filter 1: ensuring instrument status 'normal':0\n",
    "raw_instrument_df = raw_instrument_df.loc[raw_instrument_df[\"Instrument status\"]==instrument_status_normal]\n",
    "\n",
    "#filter 2: removing negatives\n",
    "instrument_positives = raw_instrument_df[\n",
    "    (raw_instrument_df[\"Average value\"]>0)\n",
    "    ]\n",
    "\n",
    "#filter 3: PM.25 only\n",
    "pm25_subset = instrument_positives.dropna(subset=['Pollutant Status'])\n",
    "distinct_status_count = pm25_subset['Pollutant Status'].value_counts()"
   ]
  },
  {
   "cell_type": "code",
   "execution_count": 146,
   "metadata": {},
   "outputs": [
    {
     "data": {
      "text/plain": [
       "Pollutant Status\n",
       "Normal      260379\n",
       "Good        223990\n",
       "Bad          99525\n",
       "Very bad     15160\n",
       "Name: count, dtype: int64"
      ]
     },
     "execution_count": 146,
     "metadata": {},
     "output_type": "execute_result"
    }
   ],
   "source": [
    "distinct_status_count"
   ]
  },
  {
   "cell_type": "markdown",
   "metadata": {},
   "source": [
    "# Answers "
   ]
  },
  {
   "cell_type": "code",
   "execution_count": 149,
   "metadata": {},
   "outputs": [],
   "source": [
    "Q1 = average_SO2_concentration.item()\n",
    "Q2 = avg_seasonal_co_pollution.to_dict()\n",
    "Q3 = highest_variability_hour.item()\n",
    "Q4 = station_most_abnormal.item()\n",
    "Q5 = station_most_notnormal.item()\n",
    "Q6 = distinct_status_count.to_dict()"
   ]
  },
  {
   "cell_type": "code",
   "execution_count": 150,
   "metadata": {},
   "outputs": [],
   "source": [
    "data = {\n",
    "    \"target\": {\n",
    "        \"Q1\": Q1,\n",
    "        \"Q2\": Q2, \n",
    "        \"Q3\": Q3,\n",
    "        \"Q4\": Q4,\n",
    "        \"Q5\": Q5,\n",
    "        \"Q6\": Q6\n",
    "    }\n",
    "}"
   ]
  },
  {
   "cell_type": "code",
   "execution_count": 151,
   "metadata": {},
   "outputs": [],
   "source": [
    "with open('/Users/nathanjones/Downloads/NUWE/Hackathons/Schneider_DataScience/hackathon-schneider-pollution/predictions/questions.json', 'w') as json_file:\n",
    "    json.dump(data, json_file, indent=4) \n"
   ]
  }
 ],
 "metadata": {
  "kernelspec": {
   "display_name": "venv",
   "language": "python",
   "name": "python3"
  },
  "language_info": {
   "codemirror_mode": {
    "name": "ipython",
    "version": 3
   },
   "file_extension": ".py",
   "mimetype": "text/x-python",
   "name": "python",
   "nbconvert_exporter": "python",
   "pygments_lexer": "ipython3",
   "version": "3.12.5"
  }
 },
 "nbformat": 4,
 "nbformat_minor": 2
}
