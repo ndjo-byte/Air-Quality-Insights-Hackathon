{
 "cells": [
  {
   "cell_type": "code",
   "execution_count": 4,
   "metadata": {},
   "outputs": [],
   "source": [
    "import pandas as pd\n",
    "import numpy as np\n",
    "import matplotlib.pyplot as plt\n",
    "import seaborn as sns\n"
   ]
  },
  {
   "cell_type": "code",
   "execution_count": 6,
   "metadata": {},
   "outputs": [],
   "source": [
    "measurement_route = \"/Users/nathanjones/Downloads/NUWE/Hackathons/Schneider_DataScience/hackathon-schneider-pollution/data/processed/measurements.csv\"\n",
    "\n",
    "df = pd.read_csv(measurement_route, parse_dates=[\"Measurement date\"])"
   ]
  },
  {
   "cell_type": "code",
   "execution_count": 7,
   "metadata": {},
   "outputs": [],
   "source": [
    "df[\"Year\"] = df[\"Measurement date\"].dt.year\n",
    "df[\"Month\"] = df[\"Measurement date\"].dt.month\n",
    "df[\"Day\"] = df[\"Measurement date\"].dt.day\n",
    "df[\"Weekday\"] = df[\"Measurement date\"].dt.weekday\n",
    "df.drop(columns=[\"Measurement date\"], inplace=True)\n",
    "\n"
   ]
  },
  {
   "cell_type": "code",
   "execution_count": 8,
   "metadata": {},
   "outputs": [
    {
     "name": "stdout",
     "output_type": "stream",
     "text": [
      "<class 'pandas.core.frame.DataFrame'>\n",
      "RangeIndex: 544296 entries, 0 to 544295\n",
      "Data columns (total 13 columns):\n",
      " #   Column        Non-Null Count   Dtype  \n",
      "---  ------        --------------   -----  \n",
      " 0   Station code  544296 non-null  int64  \n",
      " 1   SO2           544296 non-null  float64\n",
      " 2   NO2           544296 non-null  float64\n",
      " 3   O3            544296 non-null  float64\n",
      " 4   CO            544296 non-null  float64\n",
      " 5   PM10          544296 non-null  float64\n",
      " 6   PM2.5         544296 non-null  float64\n",
      " 7   Season        544296 non-null  int64  \n",
      " 8   Hour          544296 non-null  int64  \n",
      " 9   Year          544296 non-null  int32  \n",
      " 10  Month         544296 non-null  int32  \n",
      " 11  Day           544296 non-null  int32  \n",
      " 12  Weekday       544296 non-null  int32  \n",
      "dtypes: float64(6), int32(4), int64(3)\n",
      "memory usage: 45.7 MB\n"
     ]
    }
   ],
   "source": [
    "df.info()"
   ]
  },
  {
   "cell_type": "code",
   "execution_count": 12,
   "metadata": {},
   "outputs": [
    {
     "name": "stdout",
     "output_type": "stream",
     "text": [
      "Training model for SO2...\n",
      "Training model for NO2...\n",
      "Training model for O3...\n",
      "Training model for CO...\n",
      "Training model for PM10...\n",
      "Training model for PM2.5...\n",
      "Model Performance: {'SO2': 0.0006101725763978173, 'NO2': 0.00402240798579215, 'O3': 0.004203404250107172, 'CO': 0.06730001837222119, 'PM10': 7.97794966011391, 'PM2.5': 6.080516381897238}\n"
     ]
    }
   ],
   "source": [
    "import matplotlib.pyplot as plt\n",
    "import numpy as np\n",
    "from sklearn.model_selection import train_test_split\n",
    "from sklearn.ensemble import RandomForestRegressor\n",
    "from sklearn.metrics import mean_absolute_error\n",
    "\n",
    "# Define features and pollutants\n",
    "features = [\"Station code\", \"Hour\", \"Month\", \"Day\", \"Weekday\"]\n",
    "pollutants = [\"SO2\", \"NO2\", \"O3\", \"CO\", \"PM10\", \"PM2.5\"]\n",
    "\n",
    "models = {}\n",
    "results = {}\n",
    "\n",
    "for pollutant in pollutants:\n",
    "    print(f\"Training model for {pollutant}...\")\n",
    "    \n",
    "    X = df[features]\n",
    "    y = df[pollutant]\n",
    "\n",
    "    X_train, X_test, y_train, y_test = train_test_split(X, y, test_size=0.15, random_state=42)\n",
    "\n",
    "    model = RandomForestRegressor(n_estimators=50, random_state=42)\n",
    "    model.fit(X_train, y_train)\n",
    "\n",
    "    y_pred = model.predict(X_test)\n",
    "    mae = mean_absolute_error(y_test, y_pred)\n",
    "\n",
    "    models[pollutant] = model\n",
    "    results[pollutant] = mae\n",
    "\n",
    "print(\"Model Performance:\", results)\n"
   ]
  },
  {
   "cell_type": "code",
   "execution_count": 13,
   "metadata": {},
   "outputs": [],
   "source": [
    "import joblib\n",
    "\n",
    "# Save models\n",
    "for pollutant, model in models.items():\n",
    "    joblib.dump(model, f\"/Users/nathanjones/Downloads/NUWE/Hackathons/Schneider_DataScience/hackathon-schneider-pollution/models/task_2/{pollutant}_model_task_2.pkl\")\n",
    "\n",
    "\n"
   ]
  },
  {
   "cell_type": "code",
   "execution_count": 16,
   "metadata": {},
   "outputs": [],
   "source": [
    "import json\n",
    "\n",
    "# Define the prediction periods\n",
    "prediction_requests = [\n",
    "    {\"station_code\": 206, \"pollutant\": \"SO2\",   \"start\": \"2023-07-01 00:00:00\", \"end\": \"2023-07-31 23:00:00\"},\n",
    "    {\"station_code\": 211, \"pollutant\": \"NO2\",   \"start\": \"2023-08-01 00:00:00\", \"end\": \"2023-08-31 23:00:00\"},\n",
    "    {\"station_code\": 217, \"pollutant\": \"O3\",    \"start\": \"2023-09-01 00:00:00\", \"end\": \"2023-09-30 23:00:00\"},\n",
    "    {\"station_code\": 219, \"pollutant\": \"CO\",    \"start\": \"2023-10-01 00:00:00\", \"end\": \"2023-10-31 23:00:00\"},\n",
    "    {\"station_code\": 225, \"pollutant\": \"PM10\",  \"start\": \"2023-11-01 00:00:00\", \"end\": \"2023-11-30 23:00:00\"},\n",
    "    {\"station_code\": 228, \"pollutant\": \"PM2.5\", \"start\": \"2023-12-01 00:00:00\", \"end\": \"2023-12-31 23:00:00\"},\n",
    "]\n",
    "\n",
    "# Initialize result dictionary\n",
    "predictions_task_2_json = {\"target\": {}}\n",
    "\n",
    "for request in prediction_requests:\n",
    "    station_code = request[\"station_code\"]\n",
    "    pollutant = request[\"pollutant\"]\n",
    "    \n",
    "    # Generate hourly timestamps\n",
    "    date_range = pd.date_range(start=request[\"start\"], end=request[\"end\"], freq=\"h\")\n",
    "    \n",
    "    # Create DataFrame with correctly ordered features\n",
    "    df_pred = pd.DataFrame({\n",
    "        \"Station code\": station_code,\n",
    "        \"Hour\": date_range.hour,\n",
    "        \"Month\": date_range.month,\n",
    "        \"Day\": date_range.day,\n",
    "        \"Weekday\": date_range.weekday,\n",
    "    })\n",
    "\n",
    "    # Predict using the preloaded model\n",
    "    model = models[pollutant]  # No need to reload!\n",
    "    predictions = model.predict(df_pred)\n",
    "\n",
    "    # Store results in JSON format\n",
    "    predictions_task_2_json[\"target\"][str(station_code)] = {\n",
    "        str(date): round(value, 2) for date, value in zip(date_range, predictions)\n",
    "    }\n",
    "\n",
    "\n",
    "# Save JSON out\n",
    "with open(\"/Users/nathanjones/Downloads/NUWE/Hackathons/Schneider_DataScience/hackathon-schneider-pollution/predictions/predictions_task_2.json\", \"w\") as f:\n",
    "    json.dump(predictions_task_2_json, f, indent=2)\n",
    "\n"
   ]
  }
 ],
 "metadata": {
  "kernelspec": {
   "display_name": "venv",
   "language": "python",
   "name": "python3"
  },
  "language_info": {
   "codemirror_mode": {
    "name": "ipython",
    "version": 3
   },
   "file_extension": ".py",
   "mimetype": "text/x-python",
   "name": "python",
   "nbconvert_exporter": "python",
   "pygments_lexer": "ipython3",
   "version": "3.12.5"
  }
 },
 "nbformat": 4,
 "nbformat_minor": 2
}
